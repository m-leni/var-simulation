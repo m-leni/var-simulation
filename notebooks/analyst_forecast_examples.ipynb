{
 "cells": [
  {
   "cell_type": "markdown",
   "id": "a1b2c3d4",
   "metadata": {},
   "source": [
    "# Analyst Forecast Examples\n",
    "\n",
    "This notebook demonstrates how to use the new analyst forecast functions from yfinance."
   ]
  },
  {
   "cell_type": "markdown",
   "id": "e1f2g3h4",
   "metadata": {},
   "source": [
    "## Overview\n",
    "\n",
    "The analyst forecast functions provide access to:\n",
    "\n",
    "1. **Fetch Analyst Price Targets**: Get analyst price target forecasts (low, high, mean, median)\n",
    "2. **Fetch Earnings Forecasts**: Get analyst EPS estimates for current/next quarters and years\n",
    "3. **Fetch Revenue Forecasts**: Get analyst revenue estimates\n",
    "4. **Fetch Growth Estimates**: Get analyst growth projections\n",
    "5. **Get Forward P/E Data**: Comprehensive function to get all forward P/E related data\n",
    "6. **Calculate Forward P/E Ratio**: Manual calculation of forward P/E using custom values"
   ]
  },
  {
   "cell_type": "markdown",
   "id": "i1j2k3l4",
   "metadata": {},
   "source": [
    "## Available Functions\n",
    "\n",
    "### Data Functions (`src.data`)\n",
    "\n",
    "- `fetch_analyst_price_targets(ticker)` - Get analyst price targets\n",
    "- `fetch_analyst_earnings_forecast(ticker)` - Get EPS estimates\n",
    "- `fetch_analyst_revenue_forecast(ticker)` - Get revenue estimates\n",
    "- `fetch_analyst_growth_estimates(ticker)` - Get growth projections\n",
    "- `get_forward_pe_data(ticker)` - Get comprehensive forward P/E data\n",
    "\n",
    "### Metrics Functions (`src.metrics`)\n",
    "\n",
    "- `forward_pe_ratio(current_price, forward_eps)` - Calculate forward P/E ratio"
   ]
  },
  {
   "cell_type": "markdown",
   "id": "m1n2o3p4",
   "metadata": {},
   "source": [
    "## Setup\n",
    "\n",
    "Import the required functions:"
   ]
  },
  {
   "cell_type": "code",
   "execution_count": null,
   "id": "q1r2s3t4",
   "metadata": {},
   "outputs": [],
   "source": [
    "from src.data import (\n",
    "    fetch_analyst_price_targets,\n",
    "    fetch_analyst_earnings_forecast,\n",
    "    fetch_analyst_revenue_forecast,\n",
    "    fetch_analyst_growth_estimates,\n",
    "    get_forward_pe_data\n",
    ")\n",
    "from src.metrics import forward_pe_ratio"
   ]
  },
  {
   "cell_type": "markdown",
   "id": "u1v2w3x4",
   "metadata": {},
   "source": [
    "## Example 1: Fetch Analyst Price Targets\n",
    "\n",
    "Get analyst price target forecasts including current price, mean, low, high, and median targets."
   ]
  },
  {
   "cell_type": "code",
   "execution_count": null,
   "id": "y1z2a3b4",
   "metadata": {},
   "outputs": [],
   "source": [
    "ticker = \"AAPL\"\n",
    "\n",
    "print(f\"Analyst Price Targets for {ticker}\")\n",
    "print(\"=\"*50)\n",
    "\n",
    "try:\n",
    "    targets = fetch_analyst_price_targets(ticker)\n",
    "    print(f\"Current Price: ${targets.get('current', 'N/A'):.2f}\")\n",
    "    print(f\"Target Mean:   ${targets.get('mean', 'N/A'):.2f}\")\n",
    "    print(f\"Target Low:    ${targets.get('low', 'N/A'):.2f}\")\n",
    "    print(f\"Target High:   ${targets.get('high', 'N/A'):.2f}\")\n",
    "    print(f\"Target Median: ${targets.get('median', 'N/A'):.2f}\")\n",
    "except Exception as e:\n",
    "    print(f\"Error: {e}\")"
   ]
  },
  {
   "cell_type": "markdown",
   "id": "c1d2e3f4",
   "metadata": {},
   "source": [
    "## Example 2: Fetch Analyst Earnings (EPS) Forecast\n",
    "\n",
    "Get analyst EPS estimates for current quarter, next quarter, current year, and next year."
   ]
  },
  {
   "cell_type": "code",
   "execution_count": null,
   "id": "g1h2i3j4",
   "metadata": {},
   "outputs": [],
   "source": [
    "print(f\"Analyst Earnings (EPS) Forecast for {ticker}\")\n",
    "print(\"=\"*50)\n",
    "\n",
    "try:\n",
    "    earnings = fetch_analyst_earnings_forecast(ticker)\n",
    "    print(earnings)\n",
    "except Exception as e:\n",
    "    print(f\"Error: {e}\")"
   ]
  },
  {
   "cell_type": "markdown",
   "id": "k1l2m3n4",
   "metadata": {},
   "source": [
    "## Example 3: Fetch Analyst Revenue Forecast\n",
    "\n",
    "Get analyst revenue estimates for upcoming periods."
   ]
  },
  {
   "cell_type": "code",
   "execution_count": null,
   "id": "o1p2q3r4",
   "metadata": {},
   "outputs": [],
   "source": [
    "print(f\"Analyst Revenue Forecast for {ticker}\")\n",
    "print(\"=\"*50)\n",
    "\n",
    "try:\n",
    "    revenue = fetch_analyst_revenue_forecast(ticker)\n",
    "    print(revenue)\n",
    "except Exception as e:\n",
    "    print(f\"Error: {e}\")"
   ]
  },
  {
   "cell_type": "markdown",
   "id": "s1t2u3v4",
   "metadata": {},
   "source": [
    "## Example 4: Fetch Growth Estimates\n",
    "\n",
    "Get analyst growth rate projections for different time periods."
   ]
  },
  {
   "cell_type": "code",
   "execution_count": null,
   "id": "w1x2y3z4",
   "metadata": {},
   "outputs": [],
   "source": [
    "print(f\"Analyst Growth Estimates for {ticker}\")\n",
    "print(\"=\"*50)\n",
    "\n",
    "try:\n",
    "    growth = fetch_analyst_growth_estimates(ticker)\n",
    "    print(growth)\n",
    "except Exception as e:\n",
    "    print(f\"Error: {e}\")"
   ]
  },
  {
   "cell_type": "markdown",
   "id": "a2b3c4d5",
   "metadata": {},
   "source": [
    "## Example 5: Get Forward P/E Data (Comprehensive)\n",
    "\n",
    "Get all forward P/E related data in one call, including current price, forward EPS, forward P/E ratio, trailing P/E, target price, and number of analysts."
   ]
  },
  {
   "cell_type": "code",
   "execution_count": null,
   "id": "e2f3g4h5",
   "metadata": {},
   "outputs": [],
   "source": [
    "print(f\"Forward P/E Data for {ticker}\")\n",
    "print(\"=\"*50)\n",
    "\n",
    "try:\n",
    "    pe_data = get_forward_pe_data(ticker)\n",
    "    print(f\"Current Price:  ${pe_data['current_price']:.2f}\")\n",
    "    print(f\"Forward EPS:    ${pe_data['forward_eps']:.2f}\")\n",
    "    print(f\"Forward P/E:    {pe_data['forward_pe']:.2f}\")\n",
    "    print(f\"Trailing P/E:   {pe_data['trailing_pe']:.2f}\")\n",
    "    print(f\"Target Price:   ${pe_data['target_price']:.2f}\")\n",
    "    print(f\"# Analysts:     {pe_data['num_analysts']}\")\n",
    "except Exception as e:\n",
    "    print(f\"Error: {e}\")"
   ]
  },
  {
   "cell_type": "markdown",
   "id": "i2j3k4l5",
   "metadata": {},
   "source": [
    "## Example 6: Calculate Forward P/E Ratio Manually\n",
    "\n",
    "Use the `forward_pe_ratio` function to calculate P/E ratio with custom values."
   ]
  },
  {
   "cell_type": "code",
   "execution_count": null,
   "id": "m2n3o4p5",
   "metadata": {},
   "outputs": [],
   "source": [
    "print(\"Manual Forward P/E Calculation\")\n",
    "print(\"=\"*50)\n",
    "\n",
    "try:\n",
    "    current_price = 150.0  # Example\n",
    "    forward_eps = 6.0      # Example\n",
    "    pe = forward_pe_ratio(current_price, forward_eps)\n",
    "    print(f\"Price: ${current_price}, Forward EPS: ${forward_eps}\")\n",
    "    print(f\"Forward P/E: {pe:.2f}\")\n",
    "except Exception as e:\n",
    "    print(f\"Error: {e}\")"
   ]
  },
  {
   "cell_type": "markdown",
   "id": "q2r3s4t5",
   "metadata": {},
   "source": [
    "## Use Cases\n",
    "\n",
    "### 1. Valuation Analysis\n",
    "Compare current stock price with analyst targets to identify potential opportunities.\n",
    "\n",
    "### 2. Forward P/E Calculation\n",
    "Use analyst estimates to calculate forward-looking P/E ratios for better valuation.\n",
    "\n",
    "### 3. Growth Analysis\n",
    "Analyze analyst growth estimates to understand future expectations.\n",
    "\n",
    "### 4. Earnings Tracking\n",
    "Monitor analyst EPS estimates and revisions over time."
   ]
  },
  {
   "cell_type": "markdown",
   "id": "u2v3w4x5",
   "metadata": {},
   "source": [
    "## Key Advantages\n",
    "\n",
    "✅ **No API key required** - Uses yfinance's free access to Yahoo Finance data  \n",
    "✅ **No rate limits** - Unlimited usage for all functions  \n",
    "✅ **Better integration** - Works seamlessly with existing yfinance-based functions  \n",
    "✅ **Comprehensive data** - Access to price targets, EPS, revenue, and growth estimates"
   ]
  }
 ],
 "metadata": {
  "kernelspec": {
   "display_name": "Python 3",
   "language": "python",
   "name": "python3"
  },
  "language_info": {
   "codemirror_mode": {
    "name": "ipython",
    "version": 3
   },
   "file_extension": ".py",
   "mimetype": "text/x-python",
   "name": "python",
   "nbconvert_exporter": "python",
   "pygments_lexer": "ipython3",
   "version": "3.11.0"
  }
 },
 "nbformat": 4,
 "nbformat_minor": 5
}
